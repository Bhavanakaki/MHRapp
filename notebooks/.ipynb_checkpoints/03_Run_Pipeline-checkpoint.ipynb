{
 "cells": [
  {
   "cell_type": "code",
   "execution_count": 11,
   "id": "84d6303f-c991-4224-a0e3-4bbaa2196b93",
   "metadata": {},
   "outputs": [
    {
     "name": "stdout",
     "output_type": "stream",
     "text": [
      "📥 Loading raw data from C:\\Users\\kakib\\MHRapp\\data\\survey.csv\n",
      "💾 Saving cleaned data to C:\\Users\\kakib\\MHRapp\\data\\cleaned_survey.csv\n",
      "✅ Preprocessing complete.\n",
      "📥 Loading raw data from C:\\Users\\kakib\\MHRapp\\data\\survey.csv\n",
      "💾 Saving cleaned data to C:\\Users\\kakib\\MHRapp\\data\\cleaned_survey.csv\n",
      "✅ Preprocessing complete.\n"
     ]
    }
   ],
   "source": [
    "import os\n",
    "if os.getcwd().endswith('notebooks'):\n",
    "    os.chdir('..')\n",
    "\n",
    "# Run the preprocessing and training scripts\n",
    "%run src/preprocess.py\n",
    "%run src/train_rf.py"
   ]
  },
  {
   "cell_type": "code",
   "execution_count": null,
   "id": "14224bb0-fca8-4840-b25d-35d6dd6cfbae",
   "metadata": {},
   "outputs": [],
   "source": []
  }
 ],
 "metadata": {
  "kernelspec": {
   "display_name": "Python 3 (ipykernel)",
   "language": "python",
   "name": "python3"
  },
  "language_info": {
   "codemirror_mode": {
    "name": "ipython",
    "version": 3
   },
   "file_extension": ".py",
   "mimetype": "text/x-python",
   "name": "python",
   "nbconvert_exporter": "python",
   "pygments_lexer": "ipython3",
   "version": "3.11.7"
  }
 },
 "nbformat": 4,
 "nbformat_minor": 5
}
