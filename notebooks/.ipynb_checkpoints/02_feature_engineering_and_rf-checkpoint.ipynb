{
 "cells": [
  {
   "cell_type": "code",
   "execution_count": 7,
   "id": "bc55b49f-ec4a-4204-8d67-0dca9e500be8",
   "metadata": {},
   "outputs": [],
   "source": [
    "import pandas as pd\n",
    "from sklearn.preprocessing import StandardScaler\n",
    "from sklearn.model_selection import train_test_split, GridSearchCV\n",
    "from sklearn.ensemble import RandomForestClassifier\n",
    "from sklearn.metrics import classification_report\n",
    "import joblib\n",
    "\n",
    "df = pd.read_csv('../data/cleaned_survey.csv')"
   ]
  },
  {
   "cell_type": "code",
   "execution_count": 8,
   "id": "752ed7cd-31f8-43c0-9c81-2b78c473047a",
   "metadata": {},
   "outputs": [],
   "source": [
    "#Features\n",
    "FEATURES = [\n",
    "  'Age','Gender','self_employed','family_history','no_employees',\n",
    "  'remote_work','tech_company','benefits','mental_health_consequence'\n",
    "]\n",
    "X = pd.get_dummies(df[FEATURES], drop_first=True)\n",
    "y = df['RiskLevel']\n",
    "\n",
    "scaler = StandardScaler()\n",
    "X['Age'] = scaler.fit_transform(X[['Age']])"
   ]
  },
  {
   "cell_type": "code",
   "execution_count": 9,
   "id": "3af5377f-05d5-46e8-ba33-e7b216da04f2",
   "metadata": {},
   "outputs": [
    {
     "name": "stdout",
     "output_type": "stream",
     "text": [
      "Best params: {'max_depth': 10, 'min_samples_leaf': 2, 'n_estimators': 100}\n",
      "              precision    recall  f1-score   support\n",
      "\n",
      "        High       0.00      0.00      0.00        29\n",
      "         Low       0.80      0.10      0.17        42\n",
      "    Moderate       0.65      0.99      0.79       128\n",
      "\n",
      "    accuracy                           0.66       199\n",
      "   macro avg       0.48      0.36      0.32       199\n",
      "weighted avg       0.59      0.66      0.54       199\n",
      "\n"
     ]
    },
    {
     "name": "stderr",
     "output_type": "stream",
     "text": [
      "C:\\Users\\kakib\\anaconda3\\Lib\\site-packages\\sklearn\\metrics\\_classification.py:1344: UndefinedMetricWarning: Precision and F-score are ill-defined and being set to 0.0 in labels with no predicted samples. Use `zero_division` parameter to control this behavior.\n",
      "  _warn_prf(average, modifier, msg_start, len(result))\n",
      "C:\\Users\\kakib\\anaconda3\\Lib\\site-packages\\sklearn\\metrics\\_classification.py:1344: UndefinedMetricWarning: Precision and F-score are ill-defined and being set to 0.0 in labels with no predicted samples. Use `zero_division` parameter to control this behavior.\n",
      "  _warn_prf(average, modifier, msg_start, len(result))\n",
      "C:\\Users\\kakib\\anaconda3\\Lib\\site-packages\\sklearn\\metrics\\_classification.py:1344: UndefinedMetricWarning: Precision and F-score are ill-defined and being set to 0.0 in labels with no predicted samples. Use `zero_division` parameter to control this behavior.\n",
      "  _warn_prf(average, modifier, msg_start, len(result))\n"
     ]
    }
   ],
   "source": [
    "#Train/Test Split & Grid Search\n",
    "X_train, X_test, y_train, y_test = train_test_split(\n",
    "  X, y, stratify=y, test_size=0.2, random_state=42\n",
    ")\n",
    "\n",
    "# Hyperparameter tuning\n",
    "param_grid = {\n",
    "  'n_estimators': [100, 200],\n",
    "  'max_depth': [None, 10, 20],\n",
    "  'min_samples_leaf': [1, 2, 4]\n",
    "}\n",
    "rf = RandomForestClassifier(random_state=42)\n",
    "grid = GridSearchCV(rf, param_grid, cv=5, n_jobs=-1)\n",
    "grid.fit(X_train, y_train)\n",
    "\n",
    "print(\"Best params:\", grid.best_params_)\n",
    "print(classification_report(y_test, grid.predict(X_test)))"
   ]
  },
  {
   "cell_type": "code",
   "execution_count": 10,
   "id": "807c4595-37cf-436c-80e1-c78565ba4a01",
   "metadata": {},
   "outputs": [
    {
     "name": "stdout",
     "output_type": "stream",
     "text": [
      "Models saved.\n"
     ]
    }
   ],
   "source": [
    "best_rf = grid.best_estimator_\n",
    "joblib.dump(best_rf, '../models/rf_model.pkl')\n",
    "joblib.dump(scaler,  '../models/scaler.pkl')\n",
    "print(\"Models saved.\")"
   ]
  },
  {
   "cell_type": "code",
   "execution_count": 11,
   "id": "28a3420d-270a-4b41-8309-3392bba899e1",
   "metadata": {},
   "outputs": [
    {
     "name": "stdout",
     "output_type": "stream",
     "text": [
      "1. family_history_Yes (0.175)\n",
      "2. remote_work_Yes (0.070)\n",
      "3. mental_health_consequence_Yes (0.068)\n",
      "4. benefits_Yes (0.066)\n"
     ]
    }
   ],
   "source": [
    "# After grid.best_estimator_ is assigned to best_rf\n",
    "import numpy as np\n",
    "\n",
    "importances = best_rf.feature_importances_           # array of length n_features\n",
    "feature_names = X_train.columns                      # the corresponding column names\n",
    "\n",
    "# Sort features by importance (highest first)\n",
    "indices = np.argsort(importances)[::-1]\n",
    "\n",
    "# Print the top 4\n",
    "for rank in range(4):\n",
    "    feat = feature_names[indices[rank]]\n",
    "    imp  = importances[indices[rank]]\n",
    "    print(f\"{rank+1}. {feat} ({imp:.3f})\")"
   ]
  },
  {
   "cell_type": "code",
   "execution_count": null,
   "id": "5f3c0f77-5685-4a5d-8c31-7d416a03dd39",
   "metadata": {},
   "outputs": [],
   "source": []
  }
 ],
 "metadata": {
  "kernelspec": {
   "display_name": "Python 3 (ipykernel)",
   "language": "python",
   "name": "python3"
  },
  "language_info": {
   "codemirror_mode": {
    "name": "ipython",
    "version": 3
   },
   "file_extension": ".py",
   "mimetype": "text/x-python",
   "name": "python",
   "nbconvert_exporter": "python",
   "pygments_lexer": "ipython3",
   "version": "3.11.7"
  }
 },
 "nbformat": 4,
 "nbformat_minor": 5
}
